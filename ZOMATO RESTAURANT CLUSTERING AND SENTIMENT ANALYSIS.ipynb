{
 "cells": [
  {
   "cell_type": "markdown",
   "metadata": {
    "id": "LGcl5Bv9ed6u"
   },
   "source": [
    "# **Problem Statement**"
   ]
  },
  {
   "cell_type": "markdown",
   "metadata": {
    "id": "Dtb2te3Omis9"
   },
   "source": [
    "Zomato is an Indian restaurant aggregator and food delivery start-up founded by Deepinder Goyal and Pankaj Chaddah in 2008. Zomato provides information, menus and user-reviews of restaurants, and also has food delivery options from partner restaurants in select cities.\n",
    "\n",
    "India is quite famous for its diverse multi cuisine available in a large number of restaurants and hotel resorts, which is reminiscent of unity in diversity. Restaurant business in India is always evolving. More Indians are warming up to the idea of eating restaurant food whether by dining outside or getting food delivered. The growing number of restaurants in every state of India has been a motivation to inspect the data to get some insights, interesting facts and figures about the Indian food industry in each city. So, this project focuses on analysing the Zomato restaurant data for each city in India.\n",
    "\n",
    "The Project focuses on Customers and Company, you have  to analyze the sentiments of the reviews given by the customer in the data and made some useful conclusion in the form of Visualizations. Also, cluster the zomato restaurants into different segments. The data is vizualized as it becomes easy to analyse data at instant. The Analysis also solve some of the business cases that can directly help the customers finding the Best restaurant in their locality and for the company to grow up and work on the fields they are currently lagging in.\n",
    "\n",
    "This could help in clustering the restaurants into segments. Also the data has valuable information around cuisine and costing which can be used in cost vs. benefit analysis\n",
    "\n",
    "Data could be used for sentiment analysis. Also the metadata of reviewers can be used for identifying the critics in the industry. "
   ]
  },
  {
   "cell_type": "markdown",
   "metadata": {
    "id": "AzGDqdC4fZ-b"
   },
   "source": [
    "# **Attribute Information**"
   ]
  },
  {
   "cell_type": "markdown",
   "metadata": {
    "id": "1rDsYX7KtvFb"
   },
   "source": [
    "## **Zomato Restaurant names and Metadata**\n",
    "Use this dataset for clustering part"
   ]
  },
  {
   "cell_type": "markdown",
   "metadata": {
    "id": "3uB3PQRXtz-A"
   },
   "source": [
    "1. Name : Name of Restaurants\n",
    "\n",
    "2. Links : URL Links of Restaurants\n",
    "\n",
    "3. Cost : Per person estimated Cost of dining\n",
    "\n",
    "4. Collection : Tagging of Restaurants w.r.t. Zomato categories\n",
    "\n",
    "5. Cuisines : Cuisines served by Restaurants\n",
    "\n",
    "6. Timings : Restaurant Timings"
   ]
  },
  {
   "cell_type": "markdown",
   "metadata": {
    "id": "Pq7CVNxQuT8i"
   },
   "source": [
    "## **Zomato Restaurant reviews**\n",
    "Merge this dataset with Names and Matadata and then use for sentiment analysis part"
   ]
  },
  {
   "cell_type": "markdown",
   "metadata": {
    "id": "k9E4XoEGuc0G"
   },
   "source": [
    "1. Restaurant : Name of the Restaurant\n",
    "\n",
    "2. Reviewer : Name of the Reviewer\n",
    "\n",
    "3. Review : Review Text\n",
    "\n",
    "4. Rating : Rating Provided by Reviewer\n",
    "\n",
    "5. MetaData : Reviewer Metadata - No. of Reviews and followers\n",
    "\n",
    "6. Time: Date and Time of Review\n",
    "\n",
    "7. Pictures : No. of pictures posted with review"
   ]
  },
  {
   "cell_type": "code",
   "execution_count": 739,
   "metadata": {},
   "outputs": [],
   "source": [
    "# importing the essential libraries\n",
    "\n",
    "import pandas as pd\n",
    "import numpy as np\n",
    "import matplotlib.pyplot as plt\n",
    "import seaborn as sns"
   ]
  },
  {
   "cell_type": "code",
   "execution_count": 740,
   "metadata": {},
   "outputs": [],
   "source": [
    "# to make rows visible upto 500\n",
    "pd.set_option('display.max_rows', 500)\n",
    "pd.set_option('display.max_columns', 500)\n",
    "pd.set_option('display.width', 500)"
   ]
  },
  {
   "cell_type": "code",
   "execution_count": 741,
   "metadata": {},
   "outputs": [],
   "source": [
    "#reading the restaurant names data\n",
    "names_df = pd.read_csv('Zomato Restaurant names and Metadata.csv')\n",
    "\n",
    "#reading the zomato reviews data\n",
    "reviews_df = pd.read_csv('Zomato Restaurant reviews.csv')"
   ]
  },
  {
   "cell_type": "markdown",
   "metadata": {},
   "source": [
    "# Basic analysis on names data"
   ]
  },
  {
   "cell_type": "code",
   "execution_count": 742,
   "metadata": {},
   "outputs": [
    {
     "data": {
      "text/plain": [
       "(105, 6)"
      ]
     },
     "execution_count": 742,
     "metadata": {},
     "output_type": "execute_result"
    }
   ],
   "source": [
    "# Shape of the data\n",
    "names_df.shape"
   ]
  },
  {
   "cell_type": "code",
   "execution_count": 743,
   "metadata": {},
   "outputs": [
    {
     "data": {
      "text/html": [
       "<div>\n",
       "<style scoped>\n",
       "    .dataframe tbody tr th:only-of-type {\n",
       "        vertical-align: middle;\n",
       "    }\n",
       "\n",
       "    .dataframe tbody tr th {\n",
       "        vertical-align: top;\n",
       "    }\n",
       "\n",
       "    .dataframe thead th {\n",
       "        text-align: right;\n",
       "    }\n",
       "</style>\n",
       "<table border=\"1\" class=\"dataframe\">\n",
       "  <thead>\n",
       "    <tr style=\"text-align: right;\">\n",
       "      <th></th>\n",
       "      <th>Name</th>\n",
       "      <th>Links</th>\n",
       "      <th>Cost</th>\n",
       "      <th>Collections</th>\n",
       "      <th>Cuisines</th>\n",
       "      <th>Timings</th>\n",
       "    </tr>\n",
       "  </thead>\n",
       "  <tbody>\n",
       "    <tr>\n",
       "      <th>0</th>\n",
       "      <td>Beyond Flavours</td>\n",
       "      <td>https://www.zomato.com/hyderabad/beyond-flavou...</td>\n",
       "      <td>800</td>\n",
       "      <td>Food Hygiene Rated Restaurants in Hyderabad, C...</td>\n",
       "      <td>Chinese, Continental, Kebab, European, South I...</td>\n",
       "      <td>12noon to 3:30pm, 6:30pm to 11:30pm (Mon-Sun)</td>\n",
       "    </tr>\n",
       "    <tr>\n",
       "      <th>1</th>\n",
       "      <td>Paradise</td>\n",
       "      <td>https://www.zomato.com/hyderabad/paradise-gach...</td>\n",
       "      <td>800</td>\n",
       "      <td>Hyderabad's Hottest</td>\n",
       "      <td>Biryani, North Indian, Chinese</td>\n",
       "      <td>11 AM to 11 PM</td>\n",
       "    </tr>\n",
       "    <tr>\n",
       "      <th>2</th>\n",
       "      <td>Flechazo</td>\n",
       "      <td>https://www.zomato.com/hyderabad/flechazo-gach...</td>\n",
       "      <td>1,300</td>\n",
       "      <td>Great Buffets, Hyderabad's Hottest</td>\n",
       "      <td>Asian, Mediterranean, North Indian, Desserts</td>\n",
       "      <td>11:30 AM to 4:30 PM, 6:30 PM to 11 PM</td>\n",
       "    </tr>\n",
       "    <tr>\n",
       "      <th>3</th>\n",
       "      <td>Shah Ghouse Hotel &amp; Restaurant</td>\n",
       "      <td>https://www.zomato.com/hyderabad/shah-ghouse-h...</td>\n",
       "      <td>800</td>\n",
       "      <td>Late Night Restaurants</td>\n",
       "      <td>Biryani, North Indian, Chinese, Seafood, Bever...</td>\n",
       "      <td>12 Noon to 2 AM</td>\n",
       "    </tr>\n",
       "    <tr>\n",
       "      <th>4</th>\n",
       "      <td>Over The Moon Brew Company</td>\n",
       "      <td>https://www.zomato.com/hyderabad/over-the-moon...</td>\n",
       "      <td>1,200</td>\n",
       "      <td>Best Bars &amp; Pubs, Food Hygiene Rated Restauran...</td>\n",
       "      <td>Asian, Continental, North Indian, Chinese, Med...</td>\n",
       "      <td>12noon to 11pm (Mon, Tue, Wed, Thu, Sun), 12no...</td>\n",
       "    </tr>\n",
       "  </tbody>\n",
       "</table>\n",
       "</div>"
      ],
      "text/plain": [
       "                             Name                                              Links   Cost                                        Collections                                           Cuisines                                            Timings\n",
       "0                 Beyond Flavours  https://www.zomato.com/hyderabad/beyond-flavou...    800  Food Hygiene Rated Restaurants in Hyderabad, C...  Chinese, Continental, Kebab, European, South I...      12noon to 3:30pm, 6:30pm to 11:30pm (Mon-Sun)\n",
       "1                        Paradise  https://www.zomato.com/hyderabad/paradise-gach...    800                                Hyderabad's Hottest                     Biryani, North Indian, Chinese                                     11 AM to 11 PM\n",
       "2                        Flechazo  https://www.zomato.com/hyderabad/flechazo-gach...  1,300                 Great Buffets, Hyderabad's Hottest       Asian, Mediterranean, North Indian, Desserts              11:30 AM to 4:30 PM, 6:30 PM to 11 PM\n",
       "3  Shah Ghouse Hotel & Restaurant  https://www.zomato.com/hyderabad/shah-ghouse-h...    800                             Late Night Restaurants  Biryani, North Indian, Chinese, Seafood, Bever...                                    12 Noon to 2 AM\n",
       "4      Over The Moon Brew Company  https://www.zomato.com/hyderabad/over-the-moon...  1,200  Best Bars & Pubs, Food Hygiene Rated Restauran...  Asian, Continental, North Indian, Chinese, Med...  12noon to 11pm (Mon, Tue, Wed, Thu, Sun), 12no..."
      ]
     },
     "execution_count": 743,
     "metadata": {},
     "output_type": "execute_result"
    }
   ],
   "source": [
    "#head of the data\n",
    "names_df.head(5)"
   ]
  },
  {
   "cell_type": "code",
   "execution_count": 744,
   "metadata": {
    "scrolled": true
   },
   "outputs": [
    {
     "name": "stdout",
     "output_type": "stream",
     "text": [
      "<class 'pandas.core.frame.DataFrame'>\n",
      "RangeIndex: 105 entries, 0 to 104\n",
      "Data columns (total 6 columns):\n",
      " #   Column       Non-Null Count  Dtype \n",
      "---  ------       --------------  ----- \n",
      " 0   Name         105 non-null    object\n",
      " 1   Links        105 non-null    object\n",
      " 2   Cost         105 non-null    object\n",
      " 3   Collections  51 non-null     object\n",
      " 4   Cuisines     105 non-null    object\n",
      " 5   Timings      104 non-null    object\n",
      "dtypes: object(6)\n",
      "memory usage: 5.0+ KB\n"
     ]
    }
   ],
   "source": [
    "# Basic information about our dataframe\n",
    "names_df.info()"
   ]
  },
  {
   "cell_type": "code",
   "execution_count": 745,
   "metadata": {},
   "outputs": [
    {
     "data": {
      "text/plain": [
       "Name           105\n",
       "Links          105\n",
       "Cost            29\n",
       "Collections     42\n",
       "Cuisines        92\n",
       "Timings         77\n",
       "dtype: int64"
      ]
     },
     "execution_count": 745,
     "metadata": {},
     "output_type": "execute_result"
    }
   ],
   "source": [
    "# Columns and the no.of unique observations\n",
    "names_df.nunique()"
   ]
  },
  {
   "cell_type": "markdown",
   "metadata": {},
   "source": [
    "* There are total of 105 unique restuarants"
   ]
  },
  {
   "cell_type": "markdown",
   "metadata": {},
   "source": [
    "# Basic analysis on reviews data"
   ]
  },
  {
   "cell_type": "code",
   "execution_count": 746,
   "metadata": {},
   "outputs": [
    {
     "data": {
      "text/plain": [
       "(10000, 7)"
      ]
     },
     "execution_count": 746,
     "metadata": {},
     "output_type": "execute_result"
    }
   ],
   "source": [
    "# Shape of the data\n",
    "reviews_df.shape"
   ]
  },
  {
   "cell_type": "code",
   "execution_count": 747,
   "metadata": {},
   "outputs": [
    {
     "data": {
      "text/html": [
       "<div>\n",
       "<style scoped>\n",
       "    .dataframe tbody tr th:only-of-type {\n",
       "        vertical-align: middle;\n",
       "    }\n",
       "\n",
       "    .dataframe tbody tr th {\n",
       "        vertical-align: top;\n",
       "    }\n",
       "\n",
       "    .dataframe thead th {\n",
       "        text-align: right;\n",
       "    }\n",
       "</style>\n",
       "<table border=\"1\" class=\"dataframe\">\n",
       "  <thead>\n",
       "    <tr style=\"text-align: right;\">\n",
       "      <th></th>\n",
       "      <th>Name</th>\n",
       "      <th>Links</th>\n",
       "      <th>Cost</th>\n",
       "      <th>Collections</th>\n",
       "      <th>Cuisines</th>\n",
       "      <th>Timings</th>\n",
       "    </tr>\n",
       "  </thead>\n",
       "  <tbody>\n",
       "    <tr>\n",
       "      <th>0</th>\n",
       "      <td>Beyond Flavours</td>\n",
       "      <td>https://www.zomato.com/hyderabad/beyond-flavou...</td>\n",
       "      <td>800</td>\n",
       "      <td>Food Hygiene Rated Restaurants in Hyderabad, C...</td>\n",
       "      <td>Chinese, Continental, Kebab, European, South I...</td>\n",
       "      <td>12noon to 3:30pm, 6:30pm to 11:30pm (Mon-Sun)</td>\n",
       "    </tr>\n",
       "    <tr>\n",
       "      <th>1</th>\n",
       "      <td>Paradise</td>\n",
       "      <td>https://www.zomato.com/hyderabad/paradise-gach...</td>\n",
       "      <td>800</td>\n",
       "      <td>Hyderabad's Hottest</td>\n",
       "      <td>Biryani, North Indian, Chinese</td>\n",
       "      <td>11 AM to 11 PM</td>\n",
       "    </tr>\n",
       "    <tr>\n",
       "      <th>2</th>\n",
       "      <td>Flechazo</td>\n",
       "      <td>https://www.zomato.com/hyderabad/flechazo-gach...</td>\n",
       "      <td>1,300</td>\n",
       "      <td>Great Buffets, Hyderabad's Hottest</td>\n",
       "      <td>Asian, Mediterranean, North Indian, Desserts</td>\n",
       "      <td>11:30 AM to 4:30 PM, 6:30 PM to 11 PM</td>\n",
       "    </tr>\n",
       "    <tr>\n",
       "      <th>3</th>\n",
       "      <td>Shah Ghouse Hotel &amp; Restaurant</td>\n",
       "      <td>https://www.zomato.com/hyderabad/shah-ghouse-h...</td>\n",
       "      <td>800</td>\n",
       "      <td>Late Night Restaurants</td>\n",
       "      <td>Biryani, North Indian, Chinese, Seafood, Bever...</td>\n",
       "      <td>12 Noon to 2 AM</td>\n",
       "    </tr>\n",
       "    <tr>\n",
       "      <th>4</th>\n",
       "      <td>Over The Moon Brew Company</td>\n",
       "      <td>https://www.zomato.com/hyderabad/over-the-moon...</td>\n",
       "      <td>1,200</td>\n",
       "      <td>Best Bars &amp; Pubs, Food Hygiene Rated Restauran...</td>\n",
       "      <td>Asian, Continental, North Indian, Chinese, Med...</td>\n",
       "      <td>12noon to 11pm (Mon, Tue, Wed, Thu, Sun), 12no...</td>\n",
       "    </tr>\n",
       "  </tbody>\n",
       "</table>\n",
       "</div>"
      ],
      "text/plain": [
       "                             Name                                              Links   Cost                                        Collections                                           Cuisines                                            Timings\n",
       "0                 Beyond Flavours  https://www.zomato.com/hyderabad/beyond-flavou...    800  Food Hygiene Rated Restaurants in Hyderabad, C...  Chinese, Continental, Kebab, European, South I...      12noon to 3:30pm, 6:30pm to 11:30pm (Mon-Sun)\n",
       "1                        Paradise  https://www.zomato.com/hyderabad/paradise-gach...    800                                Hyderabad's Hottest                     Biryani, North Indian, Chinese                                     11 AM to 11 PM\n",
       "2                        Flechazo  https://www.zomato.com/hyderabad/flechazo-gach...  1,300                 Great Buffets, Hyderabad's Hottest       Asian, Mediterranean, North Indian, Desserts              11:30 AM to 4:30 PM, 6:30 PM to 11 PM\n",
       "3  Shah Ghouse Hotel & Restaurant  https://www.zomato.com/hyderabad/shah-ghouse-h...    800                             Late Night Restaurants  Biryani, North Indian, Chinese, Seafood, Bever...                                    12 Noon to 2 AM\n",
       "4      Over The Moon Brew Company  https://www.zomato.com/hyderabad/over-the-moon...  1,200  Best Bars & Pubs, Food Hygiene Rated Restauran...  Asian, Continental, North Indian, Chinese, Med...  12noon to 11pm (Mon, Tue, Wed, Thu, Sun), 12no..."
      ]
     },
     "execution_count": 747,
     "metadata": {},
     "output_type": "execute_result"
    }
   ],
   "source": [
    "#head of the data\n",
    "names_df.head(5)"
   ]
  },
  {
   "cell_type": "code",
   "execution_count": 748,
   "metadata": {},
   "outputs": [
    {
     "name": "stdout",
     "output_type": "stream",
     "text": [
      "<class 'pandas.core.frame.DataFrame'>\n",
      "RangeIndex: 10000 entries, 0 to 9999\n",
      "Data columns (total 7 columns):\n",
      " #   Column      Non-Null Count  Dtype \n",
      "---  ------      --------------  ----- \n",
      " 0   Restaurant  10000 non-null  object\n",
      " 1   Reviewer    9962 non-null   object\n",
      " 2   Review      9955 non-null   object\n",
      " 3   Rating      9962 non-null   object\n",
      " 4   Metadata    9962 non-null   object\n",
      " 5   Time        9962 non-null   object\n",
      " 6   Pictures    10000 non-null  int64 \n",
      "dtypes: int64(1), object(6)\n",
      "memory usage: 547.0+ KB\n"
     ]
    }
   ],
   "source": [
    "# Basic information about our dataframe\n",
    "reviews_df.info()"
   ]
  },
  {
   "cell_type": "markdown",
   "metadata": {},
   "source": [
    "* There are total of 9955 rows with no null values in this dataset\n",
    "* It is okay to drop those"
   ]
  },
  {
   "cell_type": "code",
   "execution_count": 749,
   "metadata": {},
   "outputs": [
    {
     "data": {
      "text/plain": [
       "Restaurant     100\n",
       "Reviewer      7446\n",
       "Review        9364\n",
       "Rating          10\n",
       "Metadata      2477\n",
       "Time          9782\n",
       "Pictures        36\n",
       "dtype: int64"
      ]
     },
     "execution_count": 749,
     "metadata": {},
     "output_type": "execute_result"
    }
   ],
   "source": [
    "# Columns and the no.of unique observations\n",
    "reviews_df.nunique()"
   ]
  },
  {
   "cell_type": "markdown",
   "metadata": {},
   "source": [
    "* Here unique restaurants are 100, So 5 of the restaurants doesn't have any reviews"
   ]
  },
  {
   "cell_type": "code",
   "execution_count": 750,
   "metadata": {},
   "outputs": [
    {
     "data": {
      "text/plain": [
       "array(['5', '4', '1', '3', '2', '3.5', '4.5', '2.5', '1.5', 'Like', nan],\n",
       "      dtype=object)"
      ]
     },
     "execution_count": 750,
     "metadata": {},
     "output_type": "execute_result"
    }
   ],
   "source": [
    "reviews_df['Rating'].unique()"
   ]
  },
  {
   "cell_type": "markdown",
   "metadata": {},
   "source": [
    "* For the ratings column nan values can be dropped\n",
    "* But 'Like' might be an invalid entry"
   ]
  },
  {
   "cell_type": "markdown",
   "metadata": {},
   "source": [
    "# Merging the datasets"
   ]
  },
  {
   "cell_type": "code",
   "execution_count": 751,
   "metadata": {},
   "outputs": [],
   "source": [
    "#Changing the column name for convenience while merging\n",
    "names_df = names_df.rename(columns={'Name':'Restaurant'})\n",
    "\n",
    "# Merging the two dataframes\n",
    "df = pd.merge(reviews_df, names_df, how='left', on='Restaurant')"
   ]
  },
  {
   "cell_type": "code",
   "execution_count": 752,
   "metadata": {},
   "outputs": [
    {
     "data": {
      "text/html": [
       "<div>\n",
       "<style scoped>\n",
       "    .dataframe tbody tr th:only-of-type {\n",
       "        vertical-align: middle;\n",
       "    }\n",
       "\n",
       "    .dataframe tbody tr th {\n",
       "        vertical-align: top;\n",
       "    }\n",
       "\n",
       "    .dataframe thead th {\n",
       "        text-align: right;\n",
       "    }\n",
       "</style>\n",
       "<table border=\"1\" class=\"dataframe\">\n",
       "  <thead>\n",
       "    <tr style=\"text-align: right;\">\n",
       "      <th></th>\n",
       "      <th>Restaurant</th>\n",
       "      <th>Reviewer</th>\n",
       "      <th>Review</th>\n",
       "      <th>Rating</th>\n",
       "      <th>Metadata</th>\n",
       "      <th>Time</th>\n",
       "      <th>Pictures</th>\n",
       "      <th>Links</th>\n",
       "      <th>Cost</th>\n",
       "      <th>Collections</th>\n",
       "      <th>Cuisines</th>\n",
       "      <th>Timings</th>\n",
       "    </tr>\n",
       "  </thead>\n",
       "  <tbody>\n",
       "    <tr>\n",
       "      <th>0</th>\n",
       "      <td>Beyond Flavours</td>\n",
       "      <td>Rusha Chakraborty</td>\n",
       "      <td>The ambience was good, food was quite good . h...</td>\n",
       "      <td>5</td>\n",
       "      <td>1 Review , 2 Followers</td>\n",
       "      <td>5/25/2019 15:54</td>\n",
       "      <td>0</td>\n",
       "      <td>https://www.zomato.com/hyderabad/beyond-flavou...</td>\n",
       "      <td>800</td>\n",
       "      <td>Food Hygiene Rated Restaurants in Hyderabad, C...</td>\n",
       "      <td>Chinese, Continental, Kebab, European, South I...</td>\n",
       "      <td>12noon to 3:30pm, 6:30pm to 11:30pm (Mon-Sun)</td>\n",
       "    </tr>\n",
       "    <tr>\n",
       "      <th>1</th>\n",
       "      <td>Beyond Flavours</td>\n",
       "      <td>Anusha Tirumalaneedi</td>\n",
       "      <td>Ambience is too good for a pleasant evening. S...</td>\n",
       "      <td>5</td>\n",
       "      <td>3 Reviews , 2 Followers</td>\n",
       "      <td>5/25/2019 14:20</td>\n",
       "      <td>0</td>\n",
       "      <td>https://www.zomato.com/hyderabad/beyond-flavou...</td>\n",
       "      <td>800</td>\n",
       "      <td>Food Hygiene Rated Restaurants in Hyderabad, C...</td>\n",
       "      <td>Chinese, Continental, Kebab, European, South I...</td>\n",
       "      <td>12noon to 3:30pm, 6:30pm to 11:30pm (Mon-Sun)</td>\n",
       "    </tr>\n",
       "    <tr>\n",
       "      <th>2</th>\n",
       "      <td>Beyond Flavours</td>\n",
       "      <td>Ashok Shekhawat</td>\n",
       "      <td>A must try.. great food great ambience. Thnx f...</td>\n",
       "      <td>5</td>\n",
       "      <td>2 Reviews , 3 Followers</td>\n",
       "      <td>5/24/2019 22:54</td>\n",
       "      <td>0</td>\n",
       "      <td>https://www.zomato.com/hyderabad/beyond-flavou...</td>\n",
       "      <td>800</td>\n",
       "      <td>Food Hygiene Rated Restaurants in Hyderabad, C...</td>\n",
       "      <td>Chinese, Continental, Kebab, European, South I...</td>\n",
       "      <td>12noon to 3:30pm, 6:30pm to 11:30pm (Mon-Sun)</td>\n",
       "    </tr>\n",
       "    <tr>\n",
       "      <th>3</th>\n",
       "      <td>Beyond Flavours</td>\n",
       "      <td>Swapnil Sarkar</td>\n",
       "      <td>Soumen das and Arun was a great guy. Only beca...</td>\n",
       "      <td>5</td>\n",
       "      <td>1 Review , 1 Follower</td>\n",
       "      <td>5/24/2019 22:11</td>\n",
       "      <td>0</td>\n",
       "      <td>https://www.zomato.com/hyderabad/beyond-flavou...</td>\n",
       "      <td>800</td>\n",
       "      <td>Food Hygiene Rated Restaurants in Hyderabad, C...</td>\n",
       "      <td>Chinese, Continental, Kebab, European, South I...</td>\n",
       "      <td>12noon to 3:30pm, 6:30pm to 11:30pm (Mon-Sun)</td>\n",
       "    </tr>\n",
       "    <tr>\n",
       "      <th>4</th>\n",
       "      <td>Beyond Flavours</td>\n",
       "      <td>Dileep</td>\n",
       "      <td>Food is good.we ordered Kodi drumsticks and ba...</td>\n",
       "      <td>5</td>\n",
       "      <td>3 Reviews , 2 Followers</td>\n",
       "      <td>5/24/2019 21:37</td>\n",
       "      <td>0</td>\n",
       "      <td>https://www.zomato.com/hyderabad/beyond-flavou...</td>\n",
       "      <td>800</td>\n",
       "      <td>Food Hygiene Rated Restaurants in Hyderabad, C...</td>\n",
       "      <td>Chinese, Continental, Kebab, European, South I...</td>\n",
       "      <td>12noon to 3:30pm, 6:30pm to 11:30pm (Mon-Sun)</td>\n",
       "    </tr>\n",
       "  </tbody>\n",
       "</table>\n",
       "</div>"
      ],
      "text/plain": [
       "        Restaurant              Reviewer                                             Review Rating                 Metadata             Time  Pictures                                              Links Cost                                        Collections                                           Cuisines                                        Timings\n",
       "0  Beyond Flavours     Rusha Chakraborty  The ambience was good, food was quite good . h...      5   1 Review , 2 Followers  5/25/2019 15:54         0  https://www.zomato.com/hyderabad/beyond-flavou...  800  Food Hygiene Rated Restaurants in Hyderabad, C...  Chinese, Continental, Kebab, European, South I...  12noon to 3:30pm, 6:30pm to 11:30pm (Mon-Sun)\n",
       "1  Beyond Flavours  Anusha Tirumalaneedi  Ambience is too good for a pleasant evening. S...      5  3 Reviews , 2 Followers  5/25/2019 14:20         0  https://www.zomato.com/hyderabad/beyond-flavou...  800  Food Hygiene Rated Restaurants in Hyderabad, C...  Chinese, Continental, Kebab, European, South I...  12noon to 3:30pm, 6:30pm to 11:30pm (Mon-Sun)\n",
       "2  Beyond Flavours       Ashok Shekhawat  A must try.. great food great ambience. Thnx f...      5  2 Reviews , 3 Followers  5/24/2019 22:54         0  https://www.zomato.com/hyderabad/beyond-flavou...  800  Food Hygiene Rated Restaurants in Hyderabad, C...  Chinese, Continental, Kebab, European, South I...  12noon to 3:30pm, 6:30pm to 11:30pm (Mon-Sun)\n",
       "3  Beyond Flavours        Swapnil Sarkar  Soumen das and Arun was a great guy. Only beca...      5    1 Review , 1 Follower  5/24/2019 22:11         0  https://www.zomato.com/hyderabad/beyond-flavou...  800  Food Hygiene Rated Restaurants in Hyderabad, C...  Chinese, Continental, Kebab, European, South I...  12noon to 3:30pm, 6:30pm to 11:30pm (Mon-Sun)\n",
       "4  Beyond Flavours                Dileep  Food is good.we ordered Kodi drumsticks and ba...      5  3 Reviews , 2 Followers  5/24/2019 21:37         0  https://www.zomato.com/hyderabad/beyond-flavou...  800  Food Hygiene Rated Restaurants in Hyderabad, C...  Chinese, Continental, Kebab, European, South I...  12noon to 3:30pm, 6:30pm to 11:30pm (Mon-Sun)"
      ]
     },
     "execution_count": 752,
     "metadata": {},
     "output_type": "execute_result"
    }
   ],
   "source": [
    "df.head()"
   ]
  },
  {
   "cell_type": "markdown",
   "metadata": {},
   "source": [
    "# Data Cleaning"
   ]
  },
  {
   "cell_type": "code",
   "execution_count": 753,
   "metadata": {},
   "outputs": [],
   "source": [
    "# Dropping the unwanted columns\n",
    "df.drop(['Time', 'Links', 'Collections'], axis=1, inplace=True)"
   ]
  },
  {
   "cell_type": "code",
   "execution_count": 754,
   "metadata": {},
   "outputs": [
    {
     "name": "stdout",
     "output_type": "stream",
     "text": [
      "\u001b[1mColumn\t   null count\u001b[0m\n",
      "Restaurant      0\n",
      "Reviewer       38\n",
      "Review         45\n",
      "Rating         38\n",
      "Metadata       38\n",
      "Pictures        0\n",
      "Cost            0\n",
      "Cuisines        0\n",
      "Timings       100\n",
      "dtype: int64\n"
     ]
    }
   ],
   "source": [
    "print('\\033[1m' + 'Column\\t   null count' + '\\033[0m')\n",
    "print(df.isnull().sum())"
   ]
  },
  {
   "cell_type": "code",
   "execution_count": 755,
   "metadata": {},
   "outputs": [],
   "source": [
    "#Dropping the row in which we got invalid entry for Rating\n",
    "df = df[df['Rating']!='Like']"
   ]
  },
  {
   "cell_type": "code",
   "execution_count": 756,
   "metadata": {},
   "outputs": [
    {
     "data": {
      "text/plain": [
       "38"
      ]
     },
     "execution_count": 756,
     "metadata": {},
     "output_type": "execute_result"
    }
   ],
   "source": [
    "# rows with Review,Rating,Metadata as null values\n",
    "df[(df['Review'].isnull())&(df['Rating'].isnull())&(df['Metadata'].isnull())].shape[0]"
   ]
  },
  {
   "cell_type": "markdown",
   "metadata": {},
   "source": [
    "* As there are more than 38 rows which having the above columns as null, Imputation of ratings is unneccesary\n",
    "* Even if we imput, we have to drop those rows as they still have null values"
   ]
  },
  {
   "cell_type": "code",
   "execution_count": 757,
   "metadata": {},
   "outputs": [],
   "source": [
    "#removing all the rows with null values\n",
    "df = df[(df['Review'].notna())&(df['Timings'].notna())]"
   ]
  },
  {
   "cell_type": "code",
   "execution_count": 758,
   "metadata": {},
   "outputs": [
    {
     "name": "stdout",
     "output_type": "stream",
     "text": [
      "\u001b[1mColumn\t   null count\u001b[0m\n",
      "Restaurant    0\n",
      "Reviewer      0\n",
      "Review        0\n",
      "Rating        0\n",
      "Metadata      0\n",
      "Pictures      0\n",
      "Cost          0\n",
      "Cuisines      0\n",
      "Timings       0\n",
      "dtype: int64\n"
     ]
    }
   ],
   "source": [
    "print('\\033[1m' + 'Column\\t   null count' + '\\033[0m')\n",
    "print(df.isnull().sum())"
   ]
  },
  {
   "cell_type": "markdown",
   "metadata": {},
   "source": [
    "# Data PreProcessing"
   ]
  },
  {
   "cell_type": "code",
   "execution_count": 759,
   "metadata": {},
   "outputs": [
    {
     "data": {
      "text/plain": [
       "Restaurant    object\n",
       "Reviewer      object\n",
       "Review        object\n",
       "Rating        object\n",
       "Metadata      object\n",
       "Pictures       int64\n",
       "Cost          object\n",
       "Cuisines      object\n",
       "Timings       object\n",
       "dtype: object"
      ]
     },
     "execution_count": 759,
     "metadata": {},
     "output_type": "execute_result"
    }
   ],
   "source": [
    "#Datatypes of our dataframe\n",
    "df.dtypes"
   ]
  },
  {
   "cell_type": "code",
   "execution_count": 760,
   "metadata": {},
   "outputs": [],
   "source": [
    "#Changing the datatypes of Restaurant, Review\n",
    "df['Restaurant'] = df['Restaurant'].astype(str)\n",
    "df['Review'] = df['Review'].astype(str)\n",
    "df['Rating'] = df['Rating'].astype(float)"
   ]
  },
  {
   "cell_type": "code",
   "execution_count": 761,
   "metadata": {},
   "outputs": [],
   "source": [
    "# Cost values are separated by comma in general (22,500 = 22500)\n",
    "df['Cost'] = df['Cost'].str.replace(',','').astype(int)"
   ]
  },
  {
   "cell_type": "code",
   "execution_count": 762,
   "metadata": {},
   "outputs": [],
   "source": [
    "# Making a cuisine list for every restaurant\n",
    "df['Cuisines'] = df['Cuisines'].str.split(',')"
   ]
  },
  {
   "cell_type": "code",
   "execution_count": 763,
   "metadata": {
    "scrolled": true
   },
   "outputs": [
    {
     "data": {
      "text/html": [
       "<div>\n",
       "<style scoped>\n",
       "    .dataframe tbody tr th:only-of-type {\n",
       "        vertical-align: middle;\n",
       "    }\n",
       "\n",
       "    .dataframe tbody tr th {\n",
       "        vertical-align: top;\n",
       "    }\n",
       "\n",
       "    .dataframe thead th {\n",
       "        text-align: right;\n",
       "    }\n",
       "</style>\n",
       "<table border=\"1\" class=\"dataframe\">\n",
       "  <thead>\n",
       "    <tr style=\"text-align: right;\">\n",
       "      <th></th>\n",
       "      <th>Restaurant</th>\n",
       "      <th>Reviewer</th>\n",
       "      <th>Review</th>\n",
       "      <th>Rating</th>\n",
       "      <th>Metadata</th>\n",
       "      <th>Pictures</th>\n",
       "      <th>Cost</th>\n",
       "      <th>Cuisines</th>\n",
       "      <th>Timings</th>\n",
       "    </tr>\n",
       "  </thead>\n",
       "  <tbody>\n",
       "    <tr>\n",
       "      <th>7934</th>\n",
       "      <td>Olive Garden</td>\n",
       "      <td>Samir Padhee</td>\n",
       "      <td>Bought coupon from nearbuy @ 375. It was menti...</td>\n",
       "      <td>1.0</td>\n",
       "      <td>2 Reviews , 1 Follower</td>\n",
       "      <td>0</td>\n",
       "      <td>700</td>\n",
       "      <td>[North Indian,  Chinese,  Continental,  Biryani]</td>\n",
       "      <td>12 Noon to 3:30 PM, 7 PM to 11 PM</td>\n",
       "    </tr>\n",
       "    <tr>\n",
       "      <th>9996</th>\n",
       "      <td>Chinese Pavilion</td>\n",
       "      <td>Sharad Agrawal</td>\n",
       "      <td>This place has never disappointed us.. The foo...</td>\n",
       "      <td>4.5</td>\n",
       "      <td>2 Reviews , 53 Followers</td>\n",
       "      <td>0</td>\n",
       "      <td>1000</td>\n",
       "      <td>[Chinese,  Seafood]</td>\n",
       "      <td>12 Noon to 3:30 PM, 7 PM to 11 PM</td>\n",
       "    </tr>\n",
       "    <tr>\n",
       "      <th>3674</th>\n",
       "      <td>Banana Leaf Multicuisine Restaurant</td>\n",
       "      <td>Prashanthi</td>\n",
       "      <td>Good taste but less spicy.</td>\n",
       "      <td>3.0</td>\n",
       "      <td>1 Review , 1 Follower</td>\n",
       "      <td>0</td>\n",
       "      <td>700</td>\n",
       "      <td>[Biryani,  South Indian,  North Indian,  Chine...</td>\n",
       "      <td>12:30 PM to 3:30 PM, 7 PM to 10:40 PM</td>\n",
       "    </tr>\n",
       "    <tr>\n",
       "      <th>1955</th>\n",
       "      <td>Pakwaan Grand</td>\n",
       "      <td>S.s.sahoo</td>\n",
       "      <td>Chicken biryani home delivery open the packet ...</td>\n",
       "      <td>2.0</td>\n",
       "      <td>3 Reviews , 10 Followers</td>\n",
       "      <td>0</td>\n",
       "      <td>400</td>\n",
       "      <td>[North Indian,  Chinese,  Biryani]</td>\n",
       "      <td>12 Noon to 11 PM</td>\n",
       "    </tr>\n",
       "    <tr>\n",
       "      <th>3177</th>\n",
       "      <td>Pista House</td>\n",
       "      <td>Dhruv Gupta</td>\n",
       "      <td>This place serves the best Chicken and Mutton ...</td>\n",
       "      <td>5.0</td>\n",
       "      <td>12 Reviews , 13 Followers</td>\n",
       "      <td>1</td>\n",
       "      <td>1000</td>\n",
       "      <td>[Bakery,  North Indian,  Mughlai,  Juices,  Ch...</td>\n",
       "      <td>11 AM to 12 Midnight</td>\n",
       "    </tr>\n",
       "  </tbody>\n",
       "</table>\n",
       "</div>"
      ],
      "text/plain": [
       "                               Restaurant        Reviewer                                             Review  Rating                   Metadata  Pictures  Cost                                           Cuisines                                Timings\n",
       "7934                         Olive Garden    Samir Padhee  Bought coupon from nearbuy @ 375. It was menti...     1.0     2 Reviews , 1 Follower         0   700   [North Indian,  Chinese,  Continental,  Biryani]      12 Noon to 3:30 PM, 7 PM to 11 PM\n",
       "9996                     Chinese Pavilion  Sharad Agrawal  This place has never disappointed us.. The foo...     4.5   2 Reviews , 53 Followers         0  1000                                [Chinese,  Seafood]      12 Noon to 3:30 PM, 7 PM to 11 PM\n",
       "3674  Banana Leaf Multicuisine Restaurant      Prashanthi                         Good taste but less spicy.     3.0      1 Review , 1 Follower         0   700  [Biryani,  South Indian,  North Indian,  Chine...  12:30 PM to 3:30 PM, 7 PM to 10:40 PM\n",
       "1955                        Pakwaan Grand       S.s.sahoo  Chicken biryani home delivery open the packet ...     2.0   3 Reviews , 10 Followers         0   400                 [North Indian,  Chinese,  Biryani]                       12 Noon to 11 PM\n",
       "3177                          Pista House     Dhruv Gupta  This place serves the best Chicken and Mutton ...     5.0  12 Reviews , 13 Followers         1  1000  [Bakery,  North Indian,  Mughlai,  Juices,  Ch...                   11 AM to 12 Midnight"
      ]
     },
     "execution_count": 763,
     "metadata": {},
     "output_type": "execute_result"
    }
   ],
   "source": [
    "df.sample(5)"
   ]
  },
  {
   "cell_type": "code",
   "execution_count": 764,
   "metadata": {},
   "outputs": [],
   "source": [
    "# Function to split the meta data into reviews count and followers count\n",
    "def meta_split(row):\n",
    "    reviews = int(row.split(',')[0].split()[0])\n",
    "    try :\n",
    "        followers = int(row.split(',')[1].split()[0])\n",
    "    except:\n",
    "        followers = 0\n",
    "    return reviews,followers"
   ]
  },
  {
   "cell_type": "code",
   "execution_count": 765,
   "metadata": {
    "scrolled": false
   },
   "outputs": [],
   "source": [
    "#Dividing Metadata into reviews and followers column\n",
    "df['reviews'],df['followers'] = zip(*df['Metadata'].map(meta_split))\n",
    "\n",
    "#Dropping metadata\n",
    "df = df.drop('Metadata',axis=1)"
   ]
  },
  {
   "cell_type": "code",
   "execution_count": 766,
   "metadata": {
    "scrolled": true
   },
   "outputs": [
    {
     "data": {
      "text/html": [
       "<div>\n",
       "<style scoped>\n",
       "    .dataframe tbody tr th:only-of-type {\n",
       "        vertical-align: middle;\n",
       "    }\n",
       "\n",
       "    .dataframe tbody tr th {\n",
       "        vertical-align: top;\n",
       "    }\n",
       "\n",
       "    .dataframe thead th {\n",
       "        text-align: right;\n",
       "    }\n",
       "</style>\n",
       "<table border=\"1\" class=\"dataframe\">\n",
       "  <thead>\n",
       "    <tr style=\"text-align: right;\">\n",
       "      <th></th>\n",
       "      <th>Restaurant</th>\n",
       "      <th>Reviewer</th>\n",
       "      <th>Review</th>\n",
       "      <th>Rating</th>\n",
       "      <th>Pictures</th>\n",
       "      <th>Cost</th>\n",
       "      <th>Cuisines</th>\n",
       "      <th>Timings</th>\n",
       "      <th>reviews</th>\n",
       "      <th>followers</th>\n",
       "    </tr>\n",
       "  </thead>\n",
       "  <tbody>\n",
       "    <tr>\n",
       "      <th>200</th>\n",
       "      <td>Flechazo</td>\n",
       "      <td>Vivek Vuppala</td>\n",
       "      <td>We were 4 people who visited this place on Thu...</td>\n",
       "      <td>2.0</td>\n",
       "      <td>0</td>\n",
       "      <td>1300</td>\n",
       "      <td>[Asian,  Mediterranean,  North Indian,  Desserts]</td>\n",
       "      <td>11:30 AM to 4:30 PM, 6:30 PM to 11 PM</td>\n",
       "      <td>2</td>\n",
       "      <td>40</td>\n",
       "    </tr>\n",
       "    <tr>\n",
       "      <th>9432</th>\n",
       "      <td>Dunkin' Donuts</td>\n",
       "      <td>Dinesh Baburaj</td>\n",
       "      <td>I made online order for \"Pack of 6 All time fa...</td>\n",
       "      <td>1.0</td>\n",
       "      <td>0</td>\n",
       "      <td>550</td>\n",
       "      <td>[Desserts,  Cafe,  Beverages,  Burger,  Fast F...</td>\n",
       "      <td>10 AM to 11 PM</td>\n",
       "      <td>1</td>\n",
       "      <td>6</td>\n",
       "    </tr>\n",
       "    <tr>\n",
       "      <th>7463</th>\n",
       "      <td>Faasos</td>\n",
       "      <td>Prasad</td>\n",
       "      <td>wrost food in my life waste of money</td>\n",
       "      <td>1.0</td>\n",
       "      <td>0</td>\n",
       "      <td>600</td>\n",
       "      <td>[Fast Food,  Biryani,  Desserts]</td>\n",
       "      <td>9 AM to 1 AM</td>\n",
       "      <td>2</td>\n",
       "      <td>0</td>\n",
       "    </tr>\n",
       "    <tr>\n",
       "      <th>6599</th>\n",
       "      <td>Komatose - Holiday Inn Express &amp; Suites</td>\n",
       "      <td>Suresh Jena</td>\n",
       "      <td>Awesome place to hang out with friends... Spec...</td>\n",
       "      <td>5.0</td>\n",
       "      <td>0</td>\n",
       "      <td>1500</td>\n",
       "      <td>[North Indian,  Chinese,  Japanese,  Sushi]</td>\n",
       "      <td>1 PM to 11 PM</td>\n",
       "      <td>1</td>\n",
       "      <td>2</td>\n",
       "    </tr>\n",
       "    <tr>\n",
       "      <th>2009</th>\n",
       "      <td>13 Dhaba</td>\n",
       "      <td>Sonali</td>\n",
       "      <td>Visited to this place yesterday on one of my f...</td>\n",
       "      <td>4.0</td>\n",
       "      <td>2</td>\n",
       "      <td>450</td>\n",
       "      <td>[North Indian]</td>\n",
       "      <td>12:30 PM to 10 PM (Tue-Sun), Mon Closed</td>\n",
       "      <td>15</td>\n",
       "      <td>18</td>\n",
       "    </tr>\n",
       "  </tbody>\n",
       "</table>\n",
       "</div>"
      ],
      "text/plain": [
       "                                   Restaurant        Reviewer                                             Review  Rating  Pictures  Cost                                           Cuisines                                  Timings  reviews  followers\n",
       "200                                  Flechazo   Vivek Vuppala  We were 4 people who visited this place on Thu...     2.0         0  1300  [Asian,  Mediterranean,  North Indian,  Desserts]    11:30 AM to 4:30 PM, 6:30 PM to 11 PM        2         40\n",
       "9432                           Dunkin' Donuts  Dinesh Baburaj  I made online order for \"Pack of 6 All time fa...     1.0         0   550  [Desserts,  Cafe,  Beverages,  Burger,  Fast F...                           10 AM to 11 PM        1          6\n",
       "7463                                   Faasos          Prasad               wrost food in my life waste of money     1.0         0   600                   [Fast Food,  Biryani,  Desserts]                             9 AM to 1 AM        2          0\n",
       "6599  Komatose - Holiday Inn Express & Suites     Suresh Jena  Awesome place to hang out with friends... Spec...     5.0         0  1500        [North Indian,  Chinese,  Japanese,  Sushi]                            1 PM to 11 PM        1          2\n",
       "2009                                 13 Dhaba          Sonali  Visited to this place yesterday on one of my f...     4.0         2   450                                     [North Indian]  12:30 PM to 10 PM (Tue-Sun), Mon Closed       15         18"
      ]
     },
     "execution_count": 766,
     "metadata": {},
     "output_type": "execute_result"
    }
   ],
   "source": [
    "df.sample(5)"
   ]
  },
  {
   "cell_type": "markdown",
   "metadata": {},
   "source": [
    "# Text preprocessing for reviews"
   ]
  },
  {
   "cell_type": "code",
   "execution_count": 767,
   "metadata": {},
   "outputs": [],
   "source": [
    "from nltk.corpus import stopwords\n",
    "import string\n",
    "\n",
    "#storing punctuation marks and digits\n",
    "removable = string.punctuation + string.digits\n",
    "\n",
    "#English stopwords\n",
    "stop_words = stopwords.words('english')\n",
    "# Function for preprocessing on reviews\n",
    "def reviews_processing(review):\n",
    "    \n",
    "    #converting the text to lowercase\n",
    "    review = review.lower()\n",
    "    \n",
    "    #removing punctuation marks and digits\n",
    "    dct = review.maketrans('','',removable)\n",
    "    review = review.translate(dct)\n",
    "    \n",
    "    #removing stopwords from the review\n",
    "    review = ' '.join(i for i in review.split() if i not in stop_words)\n",
    "    return review"
   ]
  },
  {
   "cell_type": "code",
   "execution_count": 768,
   "metadata": {},
   "outputs": [],
   "source": [
    "df['Review'] = df['Review'].apply(reviews_processing)"
   ]
  },
  {
   "cell_type": "code",
   "execution_count": 769,
   "metadata": {
    "scrolled": true
   },
   "outputs": [
    {
     "data": {
      "text/html": [
       "<div>\n",
       "<style scoped>\n",
       "    .dataframe tbody tr th:only-of-type {\n",
       "        vertical-align: middle;\n",
       "    }\n",
       "\n",
       "    .dataframe tbody tr th {\n",
       "        vertical-align: top;\n",
       "    }\n",
       "\n",
       "    .dataframe thead th {\n",
       "        text-align: right;\n",
       "    }\n",
       "</style>\n",
       "<table border=\"1\" class=\"dataframe\">\n",
       "  <thead>\n",
       "    <tr style=\"text-align: right;\">\n",
       "      <th></th>\n",
       "      <th>Restaurant</th>\n",
       "      <th>Reviewer</th>\n",
       "      <th>Review</th>\n",
       "      <th>Rating</th>\n",
       "      <th>Pictures</th>\n",
       "      <th>Cost</th>\n",
       "      <th>Cuisines</th>\n",
       "      <th>Timings</th>\n",
       "      <th>reviews</th>\n",
       "      <th>followers</th>\n",
       "    </tr>\n",
       "  </thead>\n",
       "  <tbody>\n",
       "    <tr>\n",
       "      <th>4427</th>\n",
       "      <td>La La Land - Bar &amp; Kitchen</td>\n",
       "      <td>Vasu Deva Reddy</td>\n",
       "      <td>regular hangout place office buddies food good...</td>\n",
       "      <td>2.0</td>\n",
       "      <td>0</td>\n",
       "      <td>1000</td>\n",
       "      <td>[Finger Food,  North Indian,  Kebab,  Chinese]</td>\n",
       "      <td>12 Noon to 11:30 PM</td>\n",
       "      <td>16</td>\n",
       "      <td>32</td>\n",
       "    </tr>\n",
       "    <tr>\n",
       "      <th>4642</th>\n",
       "      <td>Ulavacharu</td>\n",
       "      <td>MANAS AGRAWAL</td>\n",
       "      <td>place doesnt serve booking request still wait ...</td>\n",
       "      <td>1.0</td>\n",
       "      <td>0</td>\n",
       "      <td>1400</td>\n",
       "      <td>[Andhra,  North Indian,  Chinese]</td>\n",
       "      <td>12 Noon to 11:30 PM</td>\n",
       "      <td>7</td>\n",
       "      <td>76</td>\n",
       "    </tr>\n",
       "    <tr>\n",
       "      <th>2485</th>\n",
       "      <td>SKYHY</td>\n",
       "      <td>Swaraj Singh Chauhan</td>\n",
       "      <td>nice ambience great service sahu bhaiya theres...</td>\n",
       "      <td>4.0</td>\n",
       "      <td>0</td>\n",
       "      <td>1400</td>\n",
       "      <td>[North Indian,  Chinese,  Continental]</td>\n",
       "      <td>12 Noon to 12 Midnight (Mon-Thu, Sun), 12 Noon...</td>\n",
       "      <td>20</td>\n",
       "      <td>187</td>\n",
       "    </tr>\n",
       "    <tr>\n",
       "      <th>8046</th>\n",
       "      <td>Tandoori Food Works</td>\n",
       "      <td>Kavish Jain</td>\n",
       "      <td>went friends dinner small food counter sln ter...</td>\n",
       "      <td>4.0</td>\n",
       "      <td>0</td>\n",
       "      <td>500</td>\n",
       "      <td>[North Indian,  Burger,  Kebab]</td>\n",
       "      <td>12noon to 12midnight (Mon, Tue, Wed, Thu, Sun)...</td>\n",
       "      <td>38</td>\n",
       "      <td>959</td>\n",
       "    </tr>\n",
       "    <tr>\n",
       "      <th>5874</th>\n",
       "      <td>Tempteys</td>\n",
       "      <td>Vittal Bvr</td>\n",
       "      <td>good bhehave</td>\n",
       "      <td>5.0</td>\n",
       "      <td>0</td>\n",
       "      <td>350</td>\n",
       "      <td>[Desserts,  Beverages]</td>\n",
       "      <td>11:30 AM to 1 AM</td>\n",
       "      <td>1</td>\n",
       "      <td>48</td>\n",
       "    </tr>\n",
       "  </tbody>\n",
       "</table>\n",
       "</div>"
      ],
      "text/plain": [
       "                      Restaurant              Reviewer                                             Review  Rating  Pictures  Cost                                        Cuisines                                            Timings  reviews  followers\n",
       "4427  La La Land - Bar & Kitchen       Vasu Deva Reddy  regular hangout place office buddies food good...     2.0         0  1000  [Finger Food,  North Indian,  Kebab,  Chinese]                                12 Noon to 11:30 PM       16         32\n",
       "4642                  Ulavacharu         MANAS AGRAWAL  place doesnt serve booking request still wait ...     1.0         0  1400               [Andhra,  North Indian,  Chinese]                                12 Noon to 11:30 PM        7         76\n",
       "2485                       SKYHY  Swaraj Singh Chauhan  nice ambience great service sahu bhaiya theres...     4.0         0  1400          [North Indian,  Chinese,  Continental]  12 Noon to 12 Midnight (Mon-Thu, Sun), 12 Noon...       20        187\n",
       "8046         Tandoori Food Works           Kavish Jain  went friends dinner small food counter sln ter...     4.0         0   500                 [North Indian,  Burger,  Kebab]  12noon to 12midnight (Mon, Tue, Wed, Thu, Sun)...       38        959\n",
       "5874                    Tempteys            Vittal Bvr                                       good bhehave     5.0         0   350                          [Desserts,  Beverages]                                   11:30 AM to 1 AM        1         48"
      ]
     },
     "execution_count": 769,
     "metadata": {},
     "output_type": "execute_result"
    }
   ],
   "source": [
    "df.sample(5)"
   ]
  },
  {
   "cell_type": "code",
   "execution_count": 770,
   "metadata": {},
   "outputs": [
    {
     "data": {
      "text/html": [
       "<div>\n",
       "<style scoped>\n",
       "    .dataframe tbody tr th:only-of-type {\n",
       "        vertical-align: middle;\n",
       "    }\n",
       "\n",
       "    .dataframe tbody tr th {\n",
       "        vertical-align: top;\n",
       "    }\n",
       "\n",
       "    .dataframe thead th {\n",
       "        text-align: right;\n",
       "    }\n",
       "</style>\n",
       "<table border=\"1\" class=\"dataframe\">\n",
       "  <thead>\n",
       "    <tr style=\"text-align: right;\">\n",
       "      <th></th>\n",
       "      <th>Restaurant</th>\n",
       "      <th>avg_rating</th>\n",
       "    </tr>\n",
       "  </thead>\n",
       "  <tbody>\n",
       "    <tr>\n",
       "      <th>3</th>\n",
       "      <td>AB's - Absolute Barbecues</td>\n",
       "      <td>4.88</td>\n",
       "    </tr>\n",
       "    <tr>\n",
       "      <th>11</th>\n",
       "      <td>B-Dubs</td>\n",
       "      <td>4.81</td>\n",
       "    </tr>\n",
       "    <tr>\n",
       "      <th>2</th>\n",
       "      <td>3B's - Buddies, Bar &amp; Barbecue</td>\n",
       "      <td>4.76</td>\n",
       "    </tr>\n",
       "    <tr>\n",
       "      <th>67</th>\n",
       "      <td>Paradise</td>\n",
       "      <td>4.70</td>\n",
       "    </tr>\n",
       "    <tr>\n",
       "      <th>35</th>\n",
       "      <td>Flechazo</td>\n",
       "      <td>4.66</td>\n",
       "    </tr>\n",
       "    <tr>\n",
       "      <th>86</th>\n",
       "      <td>The Indi Grill</td>\n",
       "      <td>4.60</td>\n",
       "    </tr>\n",
       "    <tr>\n",
       "      <th>96</th>\n",
       "      <td>Zega - Sheraton Hyderabad Hotel</td>\n",
       "      <td>4.45</td>\n",
       "    </tr>\n",
       "    <tr>\n",
       "      <th>64</th>\n",
       "      <td>Over The Moon Brew Company</td>\n",
       "      <td>4.34</td>\n",
       "    </tr>\n",
       "    <tr>\n",
       "      <th>16</th>\n",
       "      <td>Beyond Flavours</td>\n",
       "      <td>4.28</td>\n",
       "    </tr>\n",
       "    <tr>\n",
       "      <th>19</th>\n",
       "      <td>Cascade - Radisson Hyderabad Hitec City</td>\n",
       "      <td>4.26</td>\n",
       "    </tr>\n",
       "  </tbody>\n",
       "</table>\n",
       "</div>"
      ],
      "text/plain": [
       "                                 Restaurant  avg_rating\n",
       "3                 AB's - Absolute Barbecues        4.88\n",
       "11                                   B-Dubs        4.81\n",
       "2            3B's - Buddies, Bar & Barbecue        4.76\n",
       "67                                 Paradise        4.70\n",
       "35                                 Flechazo        4.66\n",
       "86                           The Indi Grill        4.60\n",
       "96          Zega - Sheraton Hyderabad Hotel        4.45\n",
       "64               Over The Moon Brew Company        4.34\n",
       "16                          Beyond Flavours        4.28\n",
       "19  Cascade - Radisson Hyderabad Hitec City        4.26"
      ]
     },
     "execution_count": 770,
     "metadata": {},
     "output_type": "execute_result"
    }
   ],
   "source": [
    "#Storing top restaurants sorted by rating\n",
    "by_rating = df.groupby('Restaurant')['Rating'].mean().reset_index().sort_values(by='Rating', ascending=False)\n",
    "by_rating.columns=['Restaurant','avg_rating']\n",
    "by_rating.head(10)"
   ]
  },
  {
   "cell_type": "code",
   "execution_count": 771,
   "metadata": {},
   "outputs": [
    {
     "data": {
      "image/png": "[encoded data removed]",
      "text/plain": [
       "<Figure size 864x432 with 1 Axes>"
      ]
     },
     "metadata": {
      "needs_background": "light"
     },
     "output_type": "display_data"
    }
   ],
   "source": [
    "plt.figure(figsize=(12,6))\n",
    "sns.barplot(data=by_rating[:20], x='Restaurant', y='avg_rating')\n",
    "plt.title('Top 20 Restaurants by Rating')\n",
    "plt.xticks(rotation='vertical')\n",
    "plt.show()"
   ]
  },
  {
   "cell_type": "code",
   "execution_count": 772,
   "metadata": {},
   "outputs": [
    {
     "data": {
      "text/html": [
       "<div>\n",
       "<style scoped>\n",
       "    .dataframe tbody tr th:only-of-type {\n",
       "        vertical-align: middle;\n",
       "    }\n",
       "\n",
       "    .dataframe tbody tr th {\n",
       "        vertical-align: top;\n",
       "    }\n",
       "\n",
       "    .dataframe thead th {\n",
       "        text-align: right;\n",
       "    }\n",
       "</style>\n",
       "<table border=\"1\" class=\"dataframe\">\n",
       "  <thead>\n",
       "    <tr style=\"text-align: right;\">\n",
       "      <th></th>\n",
       "      <th>Reviewer</th>\n",
       "      <th>avg_reviews</th>\n",
       "    </tr>\n",
       "  </thead>\n",
       "  <tbody>\n",
       "    <tr>\n",
       "      <th>765</th>\n",
       "      <td>Anvesh Chowdary</td>\n",
       "      <td>1031.0</td>\n",
       "    </tr>\n",
       "    <tr>\n",
       "      <th>7389</th>\n",
       "      <td>ᴀɴ.ᴏᴛʜᴇʀ.sᴇɴ</td>\n",
       "      <td>685.0</td>\n",
       "    </tr>\n",
       "    <tr>\n",
       "      <th>79</th>\n",
       "      <td>Abc098</td>\n",
       "      <td>665.0</td>\n",
       "    </tr>\n",
       "    <tr>\n",
       "      <th>3234</th>\n",
       "      <td>Mithun Ravindranathan</td>\n",
       "      <td>560.0</td>\n",
       "    </tr>\n",
       "    <tr>\n",
       "      <th>3280</th>\n",
       "      <td>Mohd Zubair Ali (Hyderabad.Food.Diaries)</td>\n",
       "      <td>482.0</td>\n",
       "    </tr>\n",
       "    <tr>\n",
       "      <th>1172</th>\n",
       "      <td>Bhargava Krishna</td>\n",
       "      <td>472.0</td>\n",
       "    </tr>\n",
       "    <tr>\n",
       "      <th>1707</th>\n",
       "      <td>Epicurean Tales</td>\n",
       "      <td>452.0</td>\n",
       "    </tr>\n",
       "    <tr>\n",
       "      <th>4367</th>\n",
       "      <td>Raghu</td>\n",
       "      <td>443.0</td>\n",
       "    </tr>\n",
       "    <tr>\n",
       "      <th>62</th>\n",
       "      <td>Aarti Kamath</td>\n",
       "      <td>417.0</td>\n",
       "    </tr>\n",
       "    <tr>\n",
       "      <th>5770</th>\n",
       "      <td>Shrishail Deshnur</td>\n",
       "      <td>414.0</td>\n",
       "    </tr>\n",
       "  </tbody>\n",
       "</table>\n",
       "</div>"
      ],
      "text/plain": [
       "                                      Reviewer  avg_reviews\n",
       "765                            Anvesh Chowdary       1031.0\n",
       "7389                              ᴀɴ.ᴏᴛʜᴇʀ.sᴇɴ        685.0\n",
       "79                                      Abc098        665.0\n",
       "3234                     Mithun Ravindranathan        560.0\n",
       "3280  Mohd Zubair Ali (Hyderabad.Food.Diaries)        482.0\n",
       "1172                          Bhargava Krishna        472.0\n",
       "1707                           Epicurean Tales        452.0\n",
       "4367                                     Raghu        443.0\n",
       "62                                Aarti Kamath        417.0\n",
       "5770                         Shrishail Deshnur        414.0"
      ]
     },
     "execution_count": 772,
     "metadata": {},
     "output_type": "execute_result"
    }
   ],
   "source": [
    "by_reviews = df.groupby('Reviewer')['reviews'].mean().reset_index().sort_values(by='reviews',ascending=False)\n",
    "by_reviews.columns=['Reviewer','avg_reviews']\n",
    "by_reviews.head(10)"
   ]
  },
  {
   "cell_type": "code",
   "execution_count": 773,
   "metadata": {},
   "outputs": [
    {
     "data": {
      "image/png": "[encoded data removed]",
      "text/plain": [
       "<Figure size 864x432 with 1 Axes>"
      ]
     },
     "metadata": {
      "needs_background": "light"
     },
     "output_type": "display_data"
    }
   ],
   "source": [
    "plt.figure(figsize=(12,6))\n",
    "sns.barplot(data=by_reviews[:10],x='Reviewer', y='avg_reviews')\n",
    "plt.title('Top 10 Critics by Reviews')\n",
    "plt.xticks(rotation='vertical')\n",
    "plt.show()"
   ]
  }
 ],
 "metadata": {
  "colab": {
   "collapsed_sections": [],
   "name": "ZOMATO RESTAURANT CLUSTERING AND SENTIMENT ANALYSIS.ipynb",
   "provenance": []
  },
  "kernelspec": {
   "display_name": "Python 3",
   "language": "python",
   "name": "python3"
  },
  "language_info": {
   "codemirror_mode": {
    "name": "ipython",
    "version": 3
   },
   "file_extension": ".py",
   "mimetype": "text/x-python",
   "name": "python",
   "nbconvert_exporter": "python",
   "pygments_lexer": "ipython3",
   "version": "3.7.6"
  }
 },
 "nbformat": 4,
 "nbformat_minor": 1
}
